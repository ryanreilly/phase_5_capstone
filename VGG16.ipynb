{
  "nbformat": 4,
  "nbformat_minor": 0,
  "metadata": {
    "colab": {
      "name": "VGG16.ipynb",
      "provenance": [],
      "collapsed_sections": [],
      "machine_shape": "hm",
      "mount_file_id": "1XB0LWrMTTOLKlh86zhlBFydoCBFCDvnk",
      "authorship_tag": "ABX9TyMeY5BgPWV3RcHbSyfm1LbE",
      "include_colab_link": true
    },
    "kernelspec": {
      "name": "python3",
      "display_name": "Python 3"
    },
    "language_info": {
      "name": "python"
    },
    "accelerator": "GPU"
  },
  "cells": [
    {
      "cell_type": "markdown",
      "metadata": {
        "id": "view-in-github",
        "colab_type": "text"
      },
      "source": [
        "<a href=\"https://colab.research.google.com/github/ryanreilly/phase_5_capstone/blob/main/VGG16.ipynb\" target=\"_parent\"><img src=\"https://colab.research.google.com/assets/colab-badge.svg\" alt=\"Open In Colab\"/></a>"
      ]
    },
    {
      "cell_type": "code",
      "metadata": {
        "id": "Tb5WQZS607eI"
      },
      "source": [
        "from google.colab import drive\n",
        "!unzip drive/MyDrive/train.zip\n",
        "!unzip drive/MyDrive/dev.zip\n",
        "!unzip drive/MyDrive/test.zip"
      ],
      "execution_count": null,
      "outputs": []
    },
    {
      "cell_type": "code",
      "metadata": {
        "id": "Pk_1xQzK34Uk"
      },
      "source": [
        "gpu_info = !nvidia-smi\n",
        "gpu_info = '\\n'.join(gpu_info)\n",
        "if gpu_info.find('failed') >= 0:\n",
        "  print('Select the Runtime > \"Change runtime type\" menu to enable a GPU accelerator, ')\n",
        "  print('and then re-execute this cell.')\n",
        "else:\n",
        "  print(gpu_info)"
      ],
      "execution_count": null,
      "outputs": []
    },
    {
      "cell_type": "code",
      "metadata": {
        "id": "56Xzt1t11Xqv"
      },
      "source": [
        "train_dir = 'train'\n",
        "validation_dir = 'dev'\n",
        "test_dir = 'test'"
      ],
      "execution_count": 4,
      "outputs": []
    },
    {
      "cell_type": "code",
      "metadata": {
        "id": "Lwh8IeIz1aHc"
      },
      "source": [
        "#For manipulating and visualizing images\n",
        "import numpy as np\n",
        "import pandas as pd\n",
        "import matplotlib as mpl\n",
        "import matplotlib.pyplot as plt\n",
        "%matplotlib inline\n",
        "import seaborn as sns\n",
        "\n",
        "#To load an image using Keras\n",
        "from tensorflow.keras.preprocessing.image import load_img, ImageDataGenerator\n",
        "from tensorflow.keras.layers import Flatten, Dense, Dropout, Input, Conv2D, MaxPooling2D\n",
        "from tensorflow.keras import optimizers, models, applications\n",
        "from tensorflow.keras.callbacks import ModelCheckpoint, EarlyStopping\n",
        "from tensorflow.keras.applications.vgg16 import VGG16\n",
        "from tensorflow.keras.models import Model\n",
        "\n",
        "#To plot confusion matrix\n",
        "from sklearn.metrics import confusion_matrix, plot_confusion_matrix, classification_report \n",
        "\n",
        "#to track how long the models run\n",
        "import datetime\n",
        "\n",
        "#For dividing the images into correct folders\n",
        "import shutil\n",
        "import os\n",
        "\n",
        "#To ignore warnings\n",
        "import warnings\n",
        "warnings.filterwarnings('ignore')"
      ],
      "execution_count": 5,
      "outputs": []
    },
    {
      "cell_type": "markdown",
      "metadata": {
        "id": "YmM3hYuoSZaO"
      },
      "source": [
        "VGG16 Transfer Learning\n"
      ]
    },
    {
      "cell_type": "code",
      "metadata": {
        "id": "Q6eUJy-Mdksd"
      },
      "source": [
        "# All images will be rescaled by 1./255\n",
        "train_datagen = ImageDataGenerator(rescale=1./255, \n",
        "                                   rotation_range=30,\n",
        "                                   width_shift_range=0.2,\n",
        "                                   height_shift_range=0.2,\n",
        "                                   shear_range=0.2,\n",
        "                                   zoom_range=0.2,\n",
        "                                   horizontal_flip=True,\n",
        "                                   fill_mode='nearest')\n",
        "            \n",
        "validation_datagen = ImageDataGenerator(rescale=1./255)"
      ],
      "execution_count": 6,
      "outputs": []
    },
    {
      "cell_type": "code",
      "metadata": {
        "colab": {
          "base_uri": "https://localhost:8080/"
        },
        "id": "XlAX2L1Ldkuu",
        "outputId": "8500569f-5537-469e-a469-d85dd4133538"
      },
      "source": [
        "train_generator_vgg = train_datagen.flow_from_directory(train_dir,\n",
        "                                                    target_size=(224, 224),\n",
        "                                                    batch_size=32,\n",
        "                                                    class_mode='categorical')\n",
        "\n",
        "validation_generator_vgg = validation_datagen.flow_from_directory(validation_dir, \n",
        "                                                              target_size=(224, 224), \n",
        "                                                              batch_size=32, \n",
        "                                                              class_mode='categorical')"
      ],
      "execution_count": 7,
      "outputs": [
        {
          "output_type": "stream",
          "text": [
            "Found 12422 images belonging to 7 classes.\n",
            "Found 1458 images belonging to 7 classes.\n"
          ],
          "name": "stdout"
        }
      ]
    },
    {
      "cell_type": "code",
      "metadata": {
        "colab": {
          "base_uri": "https://localhost:8080/"
        },
        "id": "pW5pzNbpdkxB",
        "outputId": "19818c8a-2591-4b37-e138-cb726401f8fa"
      },
      "source": [
        "vggmodel = VGG16(weights='imagenet', \n",
        "                 include_top=True)\n",
        "\n",
        "vggmodel.trainable = False\n",
        "\n",
        "# Define Model Architecture\n",
        "X = vggmodel.layers[-2].output\n",
        "X = Dropout(0.2)(X)\n",
        "predictions = Dense(7, activation=\"softmax\")(X)\n",
        "model_final = Model(inputs = vggmodel.input, outputs = predictions)\n",
        "\n",
        "\n",
        "for layer in vggmodel.layers:\n",
        "    layer.trainable = False\n",
        "\n",
        "\n",
        "opt = optimizers.Adam(learning_rate=0.001)\n",
        "model_final.compile(loss='categorical_crossentropy',\n",
        "              optimizer=opt,\n",
        "              metrics=['accuracy'])\n",
        "\n",
        "checkpoint = ModelCheckpoint(\"vgg16_1.h5\", \n",
        "                             monitor='val_accuracy', \n",
        "                             verbose=1, \n",
        "                             save_best_only=True, \n",
        "                             save_weights_only=False, \n",
        "                             mode='auto', \n",
        "                             period=1)\n",
        "\n",
        "early = EarlyStopping(monitor='val_accuracy', \n",
        "                      min_delta=0, \n",
        "                      patience=4, \n",
        "                      verbose=1, \n",
        "                      mode='auto')\n",
        "\n",
        "history_3 = model_final.fit_generator(generator= train_generator_vgg,\n",
        "                                    #steps_per_epoch= 10, \n",
        "                                    epochs= 100, \n",
        "                                    validation_data= validation_generator_vgg, \n",
        "                                    validation_steps=1, \n",
        "                                    callbacks=[checkpoint,early])"
      ],
      "execution_count": 8,
      "outputs": [
        {
          "output_type": "stream",
          "text": [
            "Downloading data from https://storage.googleapis.com/tensorflow/keras-applications/vgg16/vgg16_weights_tf_dim_ordering_tf_kernels.h5\n",
            "553467904/553467096 [==============================] - 13s 0us/step\n",
            "WARNING:tensorflow:`period` argument is deprecated. Please use `save_freq` to specify the frequency in number of batches seen.\n",
            "Epoch 1/100\n",
            "389/389 [==============================] - 321s 778ms/step - loss: 1.5861 - accuracy: 0.4270 - val_loss: 1.4530 - val_accuracy: 0.4375\n",
            "\n",
            "Epoch 00001: val_accuracy improved from -inf to 0.43750, saving model to vgg16_1.h5\n",
            "Epoch 2/100\n",
            "389/389 [==============================] - 305s 784ms/step - loss: 1.4464 - accuracy: 0.4784 - val_loss: 1.6982 - val_accuracy: 0.3125\n",
            "\n",
            "Epoch 00002: val_accuracy did not improve from 0.43750\n",
            "Epoch 3/100\n",
            "389/389 [==============================] - 302s 777ms/step - loss: 1.4443 - accuracy: 0.4832 - val_loss: 1.2555 - val_accuracy: 0.5625\n",
            "\n",
            "Epoch 00003: val_accuracy improved from 0.43750 to 0.56250, saving model to vgg16_1.h5\n",
            "Epoch 4/100\n",
            "389/389 [==============================] - 303s 780ms/step - loss: 1.3825 - accuracy: 0.5035 - val_loss: 1.7034 - val_accuracy: 0.4375\n",
            "\n",
            "Epoch 00004: val_accuracy did not improve from 0.56250\n",
            "Epoch 5/100\n",
            "389/389 [==============================] - 305s 784ms/step - loss: 1.3836 - accuracy: 0.5068 - val_loss: 1.1320 - val_accuracy: 0.6562\n",
            "\n",
            "Epoch 00005: val_accuracy improved from 0.56250 to 0.65625, saving model to vgg16_1.h5\n",
            "Epoch 6/100\n",
            "389/389 [==============================] - 302s 777ms/step - loss: 1.3596 - accuracy: 0.5082 - val_loss: 1.3032 - val_accuracy: 0.5312\n",
            "\n",
            "Epoch 00006: val_accuracy did not improve from 0.65625\n",
            "Epoch 7/100\n",
            "389/389 [==============================] - 305s 784ms/step - loss: 1.3772 - accuracy: 0.5072 - val_loss: 1.5775 - val_accuracy: 0.5000\n",
            "\n",
            "Epoch 00007: val_accuracy did not improve from 0.65625\n",
            "Epoch 8/100\n",
            "389/389 [==============================] - 303s 778ms/step - loss: 1.3410 - accuracy: 0.5136 - val_loss: 1.5788 - val_accuracy: 0.4062\n",
            "\n",
            "Epoch 00008: val_accuracy did not improve from 0.65625\n",
            "Epoch 9/100\n",
            "389/389 [==============================] - 305s 785ms/step - loss: 1.3274 - accuracy: 0.5270 - val_loss: 1.0136 - val_accuracy: 0.6562\n",
            "\n",
            "Epoch 00009: val_accuracy did not improve from 0.65625\n",
            "Epoch 00009: early stopping\n"
          ],
          "name": "stdout"
        }
      ]
    },
    {
      "cell_type": "code",
      "metadata": {
        "colab": {
          "base_uri": "https://localhost:8080/",
          "height": 545
        },
        "id": "iojJ2uzFdkzK",
        "outputId": "cbda5175-21c8-43bb-f478-7157c8c7789d"
      },
      "source": [
        "acc = history_3.history['accuracy']\n",
        "val_acc = history_3.history['val_accuracy']\n",
        "loss = history_3.history['loss']\n",
        "val_loss = history_3.history['val_loss']\n",
        "epochs = range(len(acc))\n",
        "\n",
        "\n",
        "plt.plot(epochs, acc, 'g', label='Training acc')\n",
        "plt.plot(epochs, val_acc, 'b', label='Validation acc')\n",
        "plt.title('Training and validation accuracy')\n",
        "plt.legend()\n",
        "\n",
        "plt.figure()\n",
        "\n",
        "plt.plot(epochs, loss, 'g', label='Training loss')\n",
        "plt.plot(epochs, val_loss, 'b', label='Validation loss')\n",
        "plt.title('Training and validation loss')\n",
        "plt.legend()\n",
        "\n",
        "plt.show()"
      ],
      "execution_count": 9,
      "outputs": [
        {
          "output_type": "display_data",
          "data": {
            "image/png": "[encoded data removed]",
            "text/plain": [
              "<Figure size 432x288 with 1 Axes>"
            ]
          },
          "metadata": {
            "tags": [],
            "needs_background": "light"
          }
        },
        {
          "output_type": "display_data",
          "data": {
            "image/png": "[encoded data removed]",
            "text/plain": [
              "<Figure size 432x288 with 1 Axes>"
            ]
          },
          "metadata": {
            "tags": [],
            "needs_background": "light"
          }
        }
      ]
    },
    {
      "cell_type": "code",
      "metadata": {
        "id": "p4L6CJgZNegh"
      },
      "source": [
        "test_datagen = ImageDataGenerator(rescale=1./255)"
      ],
      "execution_count": 10,
      "outputs": []
    },
    {
      "cell_type": "code",
      "metadata": {
        "colab": {
          "base_uri": "https://localhost:8080/"
        },
        "id": "QNaDkYwbPNdw",
        "outputId": "8605a033-4e34-4826-9071-7b7bd54152e7"
      },
      "source": [
        "test_generator_vgg = test_datagen.flow_from_directory(test_dir, \n",
        "                                                              target_size=(224, 224), \n",
        "                                                              batch_size=32, \n",
        "                                                              class_mode='categorical')"
      ],
      "execution_count": 11,
      "outputs": [
        {
          "output_type": "stream",
          "text": [
            "Found 3147 images belonging to 7 classes.\n"
          ],
          "name": "stdout"
        }
      ]
    },
    {
      "cell_type": "code",
      "metadata": {
        "id": "7F6KYC9Vdk1x"
      },
      "source": [
        "y_pred = model_final.predict(test_generator_vgg, batch_size=32)"
      ],
      "execution_count": 12,
      "outputs": []
    },
    {
      "cell_type": "code",
      "metadata": {
        "colab": {
          "base_uri": "https://localhost:8080/"
        },
        "id": "BP1o3neFdk4E",
        "outputId": "76374cac-d50d-4b98-d023-b68f575d4129"
      },
      "source": [
        "y_pred = np.argmax(y_pred, axis=1)\n",
        "print('Confusion Matrix')\n",
        "print(confusion_matrix(test_generator_vgg.classes, y_pred))"
      ],
      "execution_count": 13,
      "outputs": [
        {
          "output_type": "stream",
          "text": [
            "Confusion Matrix\n",
            "[[ 54  28  19 131  26 128  18]\n",
            " [ 44  21   9  83  22  86  15]\n",
            " [ 97  35  28 213  40 174  12]\n",
            " [ 43  25  18 114  21 124   7]\n",
            " [ 24  20  11  68  14  80   3]\n",
            " [139  63  57 337  64 308  22]\n",
            " [ 43  23  18  94  24  93   7]]\n"
          ],
          "name": "stdout"
        }
      ]
    },
    {
      "cell_type": "code",
      "metadata": {
        "colab": {
          "base_uri": "https://localhost:8080/"
        },
        "id": "QdTY2H4adk6j",
        "outputId": "cf18d5e4-8d7f-4fc6-e247-c376e19bbf8b"
      },
      "source": [
        "print(classification_report(test_generator_vgg.classes, y_pred, target_names = [key for key,value in test_generator_vgg.class_indices.items()]))"
      ],
      "execution_count": 14,
      "outputs": [
        {
          "output_type": "stream",
          "text": [
            "                precision    recall  f1-score   support\n",
            "\n",
            "    earthquake       0.12      0.13      0.13       404\n",
            "          fire       0.10      0.07      0.08       280\n",
            "         flood       0.17      0.05      0.07       599\n",
            "     hurricane       0.11      0.32      0.16       352\n",
            "     landslide       0.07      0.06      0.06       220\n",
            "  not_disaster       0.31      0.31      0.31       990\n",
            "other_disaster       0.08      0.02      0.04       302\n",
            "\n",
            "      accuracy                           0.17      3147\n",
            "     macro avg       0.14      0.14      0.12      3147\n",
            "  weighted avg       0.18      0.17      0.16      3147\n",
            "\n"
          ],
          "name": "stdout"
        }
      ]
    }
  ]
}