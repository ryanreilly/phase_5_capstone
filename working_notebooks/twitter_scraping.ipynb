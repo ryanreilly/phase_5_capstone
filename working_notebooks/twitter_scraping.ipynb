{
 "cells": [
  {
   "cell_type": "markdown",
   "metadata": {},
   "source": [
    "# Using Twint package to scrape photos from Twitter using natural disaster lexicon. "
   ]
  },
  {
   "cell_type": "code",
   "execution_count": 26,
   "metadata": {},
   "outputs": [],
   "source": [
    "#Import libraries\n",
    "import twint\n",
    "import pandas as pd\n",
    "import nest_asyncio\n",
    "nest_asyncio.apply()"
   ]
  },
  {
   "cell_type": "code",
   "execution_count": 27,
   "metadata": {},
   "outputs": [
    {
     "name": "stdout",
     "output_type": "stream",
     "text": [
      "1417138471118929921 2021-07-19 08:05:15 -0700 <swaramedia2> Devastating floods in Germany stressed the need to address global warming  👉 https://t.co/8FqdXmFaN7  #Germany,#Europe,#floods,#Belgium,#globalWarming,#devastation,#naturalDisaster,#NaturalCalamity  https://t.co/EHuIIayNQT\n",
      "[!] No more data! Scraping will stop now.\n",
      "found 0 deleted tweets in this search.\n"
     ]
    }
   ],
   "source": [
    "# Configure\n",
    "c = twint.Config()\n",
    "#Optional - choose a specifice username\n",
    "c.Username = \"swaramedia2\"\n",
    "#Search term you want to use\n",
    "c.Search = '#naturaldisaster'\n",
    "#Date range of the tweets you want to scrape\n",
    "c.Since = '2021-07-19'\n",
    "c.until = '2021-07-25'\n",
    "#Set images to true to show only those tweets with images\n",
    "c.Images = True\n",
    "c.Pandas = True\n",
    "#Set how many tweets you want returned\n",
    "c.Limit = 20\n",
    "# Run and return tweets\n",
    "twint.run.Search(c)\n",
    "#Store the tweets in a dataframe\n",
    "nd = twint.storage.panda.Tweets_df"
   ]
  },
  {
   "cell_type": "markdown",
   "metadata": {},
   "source": [
    "### I chose a couple of recent tweets to manually upload to my classification app to predict the disaster_type"
   ]
  },
  {
   "cell_type": "code",
   "execution_count": null,
   "metadata": {},
   "outputs": [],
   "source": []
  }
 ],
 "metadata": {
  "kernelspec": {
   "display_name": "Python (tf_env)",
   "language": "python",
   "name": "tf_env"
  },
  "language_info": {
   "codemirror_mode": {
    "name": "ipython",
    "version": 3
   },
   "file_extension": ".py",
   "mimetype": "text/x-python",
   "name": "python",
   "nbconvert_exporter": "python",
   "pygments_lexer": "ipython3",
   "version": "3.7.10"
  }
 },
 "nbformat": 4,
 "nbformat_minor": 4
}
