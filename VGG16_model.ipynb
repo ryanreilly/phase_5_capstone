{
  "nbformat": 4,
  "nbformat_minor": 0,
  "metadata": {
    "colab": {
      "name": "VGG16_model.ipynb",
      "provenance": [],
      "collapsed_sections": [],
      "machine_shape": "hm",
      "mount_file_id": "1C9CweyXhMwn1X6G0zz57RNlhkkg36JBo",
      "authorship_tag": "ABX9TyM9diEnSVW0mF+XkLcT6aBb",
      "include_colab_link": true
    },
    "kernelspec": {
      "name": "python3",
      "display_name": "Python 3"
    },
    "language_info": {
      "name": "python"
    },
    "accelerator": "GPU"
  },
  "cells": [
    {
      "cell_type": "markdown",
      "metadata": {
        "id": "view-in-github",
        "colab_type": "text"
      },
      "source": [
        "<a href=\"https://colab.research.google.com/github/ryanreilly/phase_5_capstone/blob/main/VGG16_model.ipynb\" target=\"_parent\"><img src=\"https://colab.research.google.com/assets/colab-badge.svg\" alt=\"Open In Colab\"/></a>"
      ]
    },
    {
      "cell_type": "code",
      "metadata": {
        "id": "Tb5WQZS607eI"
      },
      "source": [
        "#This cell is connecting to my google drive and loading the train, validation and test folders. \n",
        "from google.colab import drive\n",
        "!unzip drive/MyDrive/train.zip\n",
        "!unzip drive/MyDrive/dev.zip\n",
        "!unzip drive/MyDrive/test.zip"
      ],
      "execution_count": null,
      "outputs": []
    },
    {
      "cell_type": "code",
      "metadata": {
        "id": "Pk_1xQzK34Uk"
      },
      "source": [
        "#This cell is showing me what GPU Google is giving me.  \n",
        "gpu_info = !nvidia-smi\n",
        "gpu_info = '\\n'.join(gpu_info)\n",
        "if gpu_info.find('failed') >= 0:\n",
        "  print('Select the Runtime > \"Change runtime type\" menu to enable a GPU accelerator, ')\n",
        "  print('and then re-execute this cell.')\n",
        "else:\n",
        "  print(gpu_info)"
      ],
      "execution_count": null,
      "outputs": []
    },
    {
      "cell_type": "code",
      "metadata": {
        "id": "56Xzt1t11Xqv"
      },
      "source": [
        "#Create variables for each directory\n",
        "train_dir = 'train'\n",
        "validation_dir = 'dev'\n",
        "test_dir = 'test'"
      ],
      "execution_count": 2,
      "outputs": []
    },
    {
      "cell_type": "code",
      "metadata": {
        "id": "Lwh8IeIz1aHc"
      },
      "source": [
        "#Import Libraries\n",
        "\n",
        "#For manipulating and visualizing images\n",
        "import numpy as np\n",
        "import pandas as pd\n",
        "import matplotlib as mpl\n",
        "import matplotlib.pyplot as plt\n",
        "%matplotlib inline\n",
        "import seaborn as sns\n",
        "import tensorflow\n",
        "import keras\n",
        "import itertools\n",
        "#To load an image using Keras\n",
        "from tensorflow.keras.preprocessing.image import load_img, ImageDataGenerator\n",
        "from tensorflow.keras.layers import Flatten, Dense, Dropout, Input, Conv2D, MaxPooling2D\n",
        "from tensorflow.keras import optimizers, models, applications\n",
        "from tensorflow.keras.callbacks import ModelCheckpoint, EarlyStopping\n",
        "from tensorflow.keras.applications.vgg16 import VGG16\n",
        "from tensorflow.keras.models import Model, load_model\n",
        "\n",
        "#To plot confusion matrix\n",
        "from sklearn.metrics import confusion_matrix, plot_confusion_matrix, classification_report \n",
        "\n",
        "#to track how long the models run\n",
        "import datetime\n",
        "\n",
        "#For dividing the images into correct folders\n",
        "import shutil\n",
        "import os\n",
        "\n",
        "#To ignore warnings\n",
        "import warnings\n",
        "warnings.filterwarnings('ignore')"
      ],
      "execution_count": 20,
      "outputs": []
    },
    {
      "cell_type": "markdown",
      "metadata": {
        "id": "YmM3hYuoSZaO"
      },
      "source": [
        "VGG16 Transfer Learning Model\n"
      ]
    },
    {
      "cell_type": "code",
      "metadata": {
        "id": "Q6eUJy-Mdksd"
      },
      "source": [
        "# All images will be rescaled by 1./255\n",
        "train_datagen = ImageDataGenerator(rescale=1./255, \n",
        "                                   rotation_range=30,\n",
        "                                   width_shift_range=0.2,\n",
        "                                   height_shift_range=0.2,\n",
        "                                   shear_range=0.2,\n",
        "                                   zoom_range=0.2,\n",
        "                                   horizontal_flip=True,\n",
        "                                   fill_mode='nearest')\n",
        "            \n",
        "validation_datagen = ImageDataGenerator(rescale=1./255)"
      ],
      "execution_count": null,
      "outputs": []
    },
    {
      "cell_type": "code",
      "metadata": {
        "id": "XlAX2L1Ldkuu"
      },
      "source": [
        "#Create the tarin and validation generators\n",
        "train_generator_vgg2 = train_datagen.flow_from_directory(train_dir,\n",
        "                                                    target_size=(224, 224),\n",
        "                                                    batch_size=32,\n",
        "                                                    class_mode='categorical')\n",
        "\n",
        "validation_generator_vgg2 = validation_datagen.flow_from_directory(validation_dir, \n",
        "                                                              target_size=(224, 224), \n",
        "                                                              batch_size=32, \n",
        "                                                              class_mode='categorical',\n",
        "                                                              shuffle=False)"
      ],
      "execution_count": null,
      "outputs": []
    },
    {
      "cell_type": "markdown",
      "metadata": {
        "id": "cQVieX6Ec6GN"
      },
      "source": [
        "Build the model"
      ]
    },
    {
      "cell_type": "code",
      "metadata": {
        "colab": {
          "base_uri": "https://localhost:8080/"
        },
        "id": "pW5pzNbpdkxB",
        "outputId": "2b3705d0-67a2-4491-a3b2-c56a5261021a"
      },
      "source": [
        "vggmodel2 = VGG16(weights='imagenet',\n",
        "                  input_shape= (224,224,3), \n",
        "                  include_top=True)\n",
        "\n",
        "vggmodel2.trainable = False\n",
        "\n",
        "# Define Model Architecture\n",
        "X = vggmodel2.layers[-2].output\n",
        "X = Dropout(0.2)(X)\n",
        "predictions = Dense(7, activation=\"softmax\")(X)\n",
        "model_final2 = Model(inputs = vggmodel2.input, outputs = predictions)\n",
        "\n",
        "\n",
        "for layer in vggmodel2.layers:\n",
        "    layer.trainable = False\n",
        "\n",
        "\n",
        "opt = optimizers.Adam(learning_rate=0.00001)\n",
        "model_final2.compile(loss='categorical_crossentropy',\n",
        "              optimizer=opt,\n",
        "              metrics=['accuracy'])\n",
        "\n",
        "checkpoint = ModelCheckpoint(\"vgg16_2.h5\", \n",
        "                             monitor='val_accuracy', \n",
        "                             verbose=1, \n",
        "                             save_best_only=True, \n",
        "                             save_weights_only=False, \n",
        "                             mode='auto', \n",
        "                             period=1)\n",
        "\n",
        "vgg_2_hist = model_final2.fit_generator(generator= train_generator_vgg2,\n",
        "                                    #steps_per_epoch= 10, \n",
        "                                    epochs= 100, \n",
        "                                    validation_data= validation_generator_vgg2, \n",
        "                                    validation_steps=1, \n",
        "                                    callbacks=[checkpoint])"
      ],
      "execution_count": null,
      "outputs": [
        {
          "output_type": "stream",
          "text": [
            "WARNING:tensorflow:`period` argument is deprecated. Please use `save_freq` to specify the frequency in number of batches seen.\n",
            "Epoch 1/100\n",
            "389/389 [==============================] - 264s 677ms/step - loss: 1.9087 - accuracy: 0.2425 - val_loss: 1.6412 - val_accuracy: 0.0312\n",
            "\n",
            "Epoch 00001: val_accuracy improved from -inf to 0.03125, saving model to vgg16_2.h5\n",
            "Epoch 2/100\n",
            "389/389 [==============================] - 263s 675ms/step - loss: 1.8093 - accuracy: 0.2982 - val_loss: 1.4687 - val_accuracy: 0.4375\n",
            "\n",
            "Epoch 00002: val_accuracy improved from 0.03125 to 0.43750, saving model to vgg16_2.h5\n",
            "Epoch 3/100\n",
            "389/389 [==============================] - 262s 674ms/step - loss: 1.7571 - accuracy: 0.3220 - val_loss: 1.4295 - val_accuracy: 0.5938\n",
            "\n",
            "Epoch 00003: val_accuracy improved from 0.43750 to 0.59375, saving model to vgg16_2.h5\n",
            "Epoch 4/100\n",
            "389/389 [==============================] - 262s 673ms/step - loss: 1.7059 - accuracy: 0.3512 - val_loss: 1.4597 - val_accuracy: 0.5312\n",
            "\n",
            "Epoch 00004: val_accuracy did not improve from 0.59375\n",
            "Epoch 5/100\n",
            "389/389 [==============================] - 263s 675ms/step - loss: 1.6683 - accuracy: 0.3666 - val_loss: 1.2766 - val_accuracy: 0.6875\n",
            "\n",
            "Epoch 00005: val_accuracy improved from 0.59375 to 0.68750, saving model to vgg16_2.h5\n",
            "Epoch 6/100\n",
            "389/389 [==============================] - 262s 673ms/step - loss: 1.6415 - accuracy: 0.3784 - val_loss: 1.3781 - val_accuracy: 0.5938\n",
            "\n",
            "Epoch 00006: val_accuracy did not improve from 0.68750\n",
            "Epoch 7/100\n",
            "389/389 [==============================] - 262s 674ms/step - loss: 1.6211 - accuracy: 0.3915 - val_loss: 1.2813 - val_accuracy: 0.6875\n",
            "\n",
            "Epoch 00007: val_accuracy did not improve from 0.68750\n",
            "Epoch 8/100\n",
            "389/389 [==============================] - 261s 672ms/step - loss: 1.6052 - accuracy: 0.3904 - val_loss: 1.3061 - val_accuracy: 0.6562\n",
            "\n",
            "Epoch 00008: val_accuracy did not improve from 0.68750\n",
            "Epoch 9/100\n",
            "389/389 [==============================] - 262s 672ms/step - loss: 1.5815 - accuracy: 0.4084 - val_loss: 1.1771 - val_accuracy: 0.7812\n",
            "\n",
            "Epoch 00009: val_accuracy improved from 0.68750 to 0.78125, saving model to vgg16_2.h5\n",
            "Epoch 10/100\n",
            "389/389 [==============================] - 264s 679ms/step - loss: 1.5671 - accuracy: 0.4083 - val_loss: 1.1244 - val_accuracy: 0.7812\n",
            "\n",
            "Epoch 00010: val_accuracy did not improve from 0.78125\n",
            "Epoch 11/100\n",
            "389/389 [==============================] - 261s 671ms/step - loss: 1.5517 - accuracy: 0.4180 - val_loss: 1.2034 - val_accuracy: 0.7812\n",
            "\n",
            "Epoch 00011: val_accuracy did not improve from 0.78125\n",
            "Epoch 12/100\n",
            "389/389 [==============================] - 263s 676ms/step - loss: 1.5453 - accuracy: 0.4208 - val_loss: 1.1790 - val_accuracy: 0.7812\n",
            "\n",
            "Epoch 00012: val_accuracy did not improve from 0.78125\n",
            "Epoch 13/100\n",
            "389/389 [==============================] - 261s 672ms/step - loss: 1.5380 - accuracy: 0.4202 - val_loss: 1.1212 - val_accuracy: 0.7812\n",
            "\n",
            "Epoch 00013: val_accuracy did not improve from 0.78125\n",
            "Epoch 14/100\n",
            "389/389 [==============================] - 262s 673ms/step - loss: 1.5249 - accuracy: 0.4264 - val_loss: 1.1645 - val_accuracy: 0.7812\n",
            "\n",
            "Epoch 00014: val_accuracy did not improve from 0.78125\n",
            "Epoch 15/100\n",
            "389/389 [==============================] - 263s 677ms/step - loss: 1.5107 - accuracy: 0.4342 - val_loss: 1.1303 - val_accuracy: 0.7812\n",
            "\n",
            "Epoch 00015: val_accuracy did not improve from 0.78125\n",
            "Epoch 16/100\n",
            "389/389 [==============================] - 262s 673ms/step - loss: 1.5155 - accuracy: 0.4346 - val_loss: 1.1558 - val_accuracy: 0.7812\n",
            "\n",
            "Epoch 00016: val_accuracy did not improve from 0.78125\n",
            "Epoch 17/100\n",
            "389/389 [==============================] - 263s 675ms/step - loss: 1.5084 - accuracy: 0.4338 - val_loss: 1.1216 - val_accuracy: 0.7812\n",
            "\n",
            "Epoch 00017: val_accuracy did not improve from 0.78125\n",
            "Epoch 18/100\n",
            "389/389 [==============================] - 262s 675ms/step - loss: 1.4935 - accuracy: 0.4437 - val_loss: 1.1249 - val_accuracy: 0.7812\n",
            "\n",
            "Epoch 00018: val_accuracy did not improve from 0.78125\n",
            "Epoch 19/100\n",
            "389/389 [==============================] - 261s 672ms/step - loss: 1.4936 - accuracy: 0.4395 - val_loss: 1.1572 - val_accuracy: 0.7812\n",
            "\n",
            "Epoch 00019: val_accuracy did not improve from 0.78125\n",
            "Epoch 20/100\n",
            "389/389 [==============================] - 261s 672ms/step - loss: 1.4936 - accuracy: 0.4404 - val_loss: 1.2321 - val_accuracy: 0.7500\n",
            "\n",
            "Epoch 00020: val_accuracy did not improve from 0.78125\n",
            "Epoch 21/100\n",
            "389/389 [==============================] - 262s 673ms/step - loss: 1.4894 - accuracy: 0.4433 - val_loss: 1.0805 - val_accuracy: 0.7812\n",
            "\n",
            "Epoch 00021: val_accuracy did not improve from 0.78125\n",
            "Epoch 22/100\n",
            "389/389 [==============================] - 262s 675ms/step - loss: 1.4748 - accuracy: 0.4542 - val_loss: 1.0234 - val_accuracy: 0.8125\n",
            "\n",
            "Epoch 00022: val_accuracy improved from 0.78125 to 0.81250, saving model to vgg16_2.h5\n",
            "Epoch 23/100\n",
            "389/389 [==============================] - 263s 675ms/step - loss: 1.4673 - accuracy: 0.4498 - val_loss: 1.0610 - val_accuracy: 0.7812\n",
            "\n",
            "Epoch 00023: val_accuracy did not improve from 0.81250\n",
            "Epoch 24/100\n",
            "389/389 [==============================] - 262s 673ms/step - loss: 1.4710 - accuracy: 0.4505 - val_loss: 1.0433 - val_accuracy: 0.7812\n",
            "\n",
            "Epoch 00024: val_accuracy did not improve from 0.81250\n",
            "Epoch 25/100\n",
            "389/389 [==============================] - 262s 674ms/step - loss: 1.4684 - accuracy: 0.4553 - val_loss: 1.0659 - val_accuracy: 0.7812\n",
            "\n",
            "Epoch 00025: val_accuracy did not improve from 0.81250\n",
            "Epoch 26/100\n",
            "389/389 [==============================] - 263s 676ms/step - loss: 1.4689 - accuracy: 0.4553 - val_loss: 1.0479 - val_accuracy: 0.7812\n",
            "\n",
            "Epoch 00026: val_accuracy did not improve from 0.81250\n",
            "Epoch 27/100\n",
            "389/389 [==============================] - 261s 672ms/step - loss: 1.4590 - accuracy: 0.4601 - val_loss: 1.0530 - val_accuracy: 0.7812\n",
            "\n",
            "Epoch 00027: val_accuracy did not improve from 0.81250\n",
            "Epoch 28/100\n",
            "389/389 [==============================] - 263s 676ms/step - loss: 1.4522 - accuracy: 0.4625 - val_loss: 1.0802 - val_accuracy: 0.7812\n",
            "\n",
            "Epoch 00028: val_accuracy did not improve from 0.81250\n",
            "Epoch 29/100\n",
            "389/389 [==============================] - 262s 673ms/step - loss: 1.4498 - accuracy: 0.4599 - val_loss: 1.0042 - val_accuracy: 0.7812\n",
            "\n",
            "Epoch 00029: val_accuracy did not improve from 0.81250\n",
            "Epoch 30/100\n",
            "389/389 [==============================] - 262s 674ms/step - loss: 1.4426 - accuracy: 0.4614 - val_loss: 1.0222 - val_accuracy: 0.8125\n",
            "\n",
            "Epoch 00030: val_accuracy did not improve from 0.81250\n",
            "Epoch 31/100\n",
            "389/389 [==============================] - 263s 676ms/step - loss: 1.4444 - accuracy: 0.4659 - val_loss: 0.9603 - val_accuracy: 0.7812\n",
            "\n",
            "Epoch 00031: val_accuracy did not improve from 0.81250\n",
            "Epoch 32/100\n",
            "389/389 [==============================] - 262s 674ms/step - loss: 1.4391 - accuracy: 0.4674 - val_loss: 0.9766 - val_accuracy: 0.7812\n",
            "\n",
            "Epoch 00032: val_accuracy did not improve from 0.81250\n",
            "Epoch 33/100\n",
            "389/389 [==============================] - 263s 677ms/step - loss: 1.4368 - accuracy: 0.4741 - val_loss: 1.0702 - val_accuracy: 0.7500\n",
            "\n",
            "Epoch 00033: val_accuracy did not improve from 0.81250\n",
            "Epoch 34/100\n",
            "389/389 [==============================] - 261s 672ms/step - loss: 1.4312 - accuracy: 0.4710 - val_loss: 0.9678 - val_accuracy: 0.7812\n",
            "\n",
            "Epoch 00034: val_accuracy did not improve from 0.81250\n",
            "Epoch 35/100\n",
            "389/389 [==============================] - 263s 675ms/step - loss: 1.4257 - accuracy: 0.4746 - val_loss: 0.9388 - val_accuracy: 0.8125\n",
            "\n",
            "Epoch 00035: val_accuracy did not improve from 0.81250\n",
            "Epoch 36/100\n",
            "389/389 [==============================] - 264s 678ms/step - loss: 1.4278 - accuracy: 0.4748 - val_loss: 1.0048 - val_accuracy: 0.7812\n",
            "\n",
            "Epoch 00036: val_accuracy did not improve from 0.81250\n",
            "Epoch 37/100\n",
            "389/389 [==============================] - 263s 676ms/step - loss: 1.4250 - accuracy: 0.4715 - val_loss: 0.9871 - val_accuracy: 0.7812\n",
            "\n",
            "Epoch 00037: val_accuracy did not improve from 0.81250\n",
            "Epoch 38/100\n",
            "389/389 [==============================] - 263s 676ms/step - loss: 1.4259 - accuracy: 0.4708 - val_loss: 0.9249 - val_accuracy: 0.8125\n",
            "\n",
            "Epoch 00038: val_accuracy did not improve from 0.81250\n",
            "Epoch 39/100\n",
            "389/389 [==============================] - 261s 669ms/step - loss: 1.4142 - accuracy: 0.4800 - val_loss: 0.9595 - val_accuracy: 0.7812\n",
            "\n",
            "Epoch 00039: val_accuracy did not improve from 0.81250\n",
            "Epoch 40/100\n",
            "389/389 [==============================] - 263s 675ms/step - loss: 1.4102 - accuracy: 0.4812 - val_loss: 0.9960 - val_accuracy: 0.7500\n",
            "\n",
            "Epoch 00040: val_accuracy did not improve from 0.81250\n",
            "Epoch 41/100\n",
            "389/389 [==============================] - 263s 676ms/step - loss: 1.4175 - accuracy: 0.4778 - val_loss: 0.9831 - val_accuracy: 0.7500\n",
            "\n",
            "Epoch 00041: val_accuracy did not improve from 0.81250\n",
            "Epoch 42/100\n",
            "389/389 [==============================] - 263s 676ms/step - loss: 1.4173 - accuracy: 0.4732 - val_loss: 0.9764 - val_accuracy: 0.7500\n",
            "\n",
            "Epoch 00042: val_accuracy did not improve from 0.81250\n",
            "Epoch 43/100\n",
            "389/389 [==============================] - 263s 676ms/step - loss: 1.4194 - accuracy: 0.4719 - val_loss: 0.9160 - val_accuracy: 0.8125\n",
            "\n",
            "Epoch 00043: val_accuracy did not improve from 0.81250\n",
            "Epoch 44/100\n",
            "389/389 [==============================] - 262s 673ms/step - loss: 1.4094 - accuracy: 0.4784 - val_loss: 0.9851 - val_accuracy: 0.7188\n",
            "\n",
            "Epoch 00044: val_accuracy did not improve from 0.81250\n",
            "Epoch 45/100\n",
            "389/389 [==============================] - 264s 677ms/step - loss: 1.4082 - accuracy: 0.4822 - val_loss: 0.9821 - val_accuracy: 0.7188\n",
            "\n",
            "Epoch 00045: val_accuracy did not improve from 0.81250\n",
            "Epoch 46/100\n",
            "389/389 [==============================] - 262s 675ms/step - loss: 1.4053 - accuracy: 0.4780 - val_loss: 0.8868 - val_accuracy: 0.8125\n",
            "\n",
            "Epoch 00046: val_accuracy did not improve from 0.81250\n",
            "Epoch 47/100\n",
            "389/389 [==============================] - 264s 679ms/step - loss: 1.4067 - accuracy: 0.4800 - val_loss: 0.9537 - val_accuracy: 0.7500\n",
            "\n",
            "Epoch 00047: val_accuracy did not improve from 0.81250\n",
            "Epoch 48/100\n",
            "389/389 [==============================] - 262s 674ms/step - loss: 1.4021 - accuracy: 0.4799 - val_loss: 0.9543 - val_accuracy: 0.7500\n",
            "\n",
            "Epoch 00048: val_accuracy did not improve from 0.81250\n",
            "Epoch 49/100\n",
            "389/389 [==============================] - 262s 673ms/step - loss: 1.3958 - accuracy: 0.4820 - val_loss: 1.0343 - val_accuracy: 0.7188\n",
            "\n",
            "Epoch 00049: val_accuracy did not improve from 0.81250\n",
            "Epoch 50/100\n",
            "389/389 [==============================] - 264s 678ms/step - loss: 1.3953 - accuracy: 0.4846 - val_loss: 0.9697 - val_accuracy: 0.7188\n",
            "\n",
            "Epoch 00050: val_accuracy did not improve from 0.81250\n",
            "Epoch 51/100\n",
            "389/389 [==============================] - 262s 674ms/step - loss: 1.3974 - accuracy: 0.4847 - val_loss: 0.8913 - val_accuracy: 0.8125\n",
            "\n",
            "Epoch 00051: val_accuracy did not improve from 0.81250\n",
            "Epoch 52/100\n",
            "389/389 [==============================] - 264s 679ms/step - loss: 1.3946 - accuracy: 0.4852 - val_loss: 0.9298 - val_accuracy: 0.7500\n",
            "\n",
            "Epoch 00052: val_accuracy did not improve from 0.81250\n",
            "Epoch 53/100\n",
            "389/389 [==============================] - 262s 673ms/step - loss: 1.3932 - accuracy: 0.4907 - val_loss: 0.8939 - val_accuracy: 0.8125\n",
            "\n",
            "Epoch 00053: val_accuracy did not improve from 0.81250\n",
            "Epoch 54/100\n",
            "389/389 [==============================] - 264s 679ms/step - loss: 1.3910 - accuracy: 0.4885 - val_loss: 0.9025 - val_accuracy: 0.7500\n",
            "\n",
            "Epoch 00054: val_accuracy did not improve from 0.81250\n",
            "Epoch 55/100\n",
            "389/389 [==============================] - 262s 674ms/step - loss: 1.3898 - accuracy: 0.4869 - val_loss: 0.9016 - val_accuracy: 0.8125\n",
            "\n",
            "Epoch 00055: val_accuracy did not improve from 0.81250\n",
            "Epoch 56/100\n",
            "389/389 [==============================] - 263s 675ms/step - loss: 1.3870 - accuracy: 0.4945 - val_loss: 0.9179 - val_accuracy: 0.7500\n",
            "\n",
            "Epoch 00056: val_accuracy did not improve from 0.81250\n",
            "Epoch 57/100\n",
            "389/389 [==============================] - 264s 678ms/step - loss: 1.3844 - accuracy: 0.4895 - val_loss: 0.8894 - val_accuracy: 0.7500\n",
            "\n",
            "Epoch 00057: val_accuracy did not improve from 0.81250\n",
            "Epoch 58/100\n",
            "389/389 [==============================] - 263s 675ms/step - loss: 1.3895 - accuracy: 0.4876 - val_loss: 0.9189 - val_accuracy: 0.7500\n",
            "\n",
            "Epoch 00058: val_accuracy did not improve from 0.81250\n",
            "Epoch 59/100\n",
            "389/389 [==============================] - 264s 678ms/step - loss: 1.3804 - accuracy: 0.4943 - val_loss: 0.9324 - val_accuracy: 0.7188\n",
            "\n",
            "Epoch 00059: val_accuracy did not improve from 0.81250\n",
            "Epoch 60/100\n",
            "389/389 [==============================] - 262s 674ms/step - loss: 1.3753 - accuracy: 0.4950 - val_loss: 0.9139 - val_accuracy: 0.7500\n",
            "\n",
            "Epoch 00060: val_accuracy did not improve from 0.81250\n",
            "Epoch 61/100\n",
            "389/389 [==============================] - 263s 677ms/step - loss: 1.3814 - accuracy: 0.4932 - val_loss: 0.9648 - val_accuracy: 0.7188\n",
            "\n",
            "Epoch 00061: val_accuracy did not improve from 0.81250\n",
            "Epoch 62/100\n",
            "389/389 [==============================] - 263s 676ms/step - loss: 1.3658 - accuracy: 0.4984 - val_loss: 0.9308 - val_accuracy: 0.7500\n",
            "\n",
            "Epoch 00062: val_accuracy did not improve from 0.81250\n",
            "Epoch 63/100\n",
            "389/389 [==============================] - 263s 676ms/step - loss: 1.3713 - accuracy: 0.4953 - val_loss: 0.8723 - val_accuracy: 0.7500\n",
            "\n",
            "Epoch 00063: val_accuracy did not improve from 0.81250\n",
            "Epoch 64/100\n",
            "389/389 [==============================] - 263s 676ms/step - loss: 1.3714 - accuracy: 0.4944 - val_loss: 0.9057 - val_accuracy: 0.7500\n",
            "\n",
            "Epoch 00064: val_accuracy did not improve from 0.81250\n",
            "Epoch 65/100\n",
            "389/389 [==============================] - 263s 675ms/step - loss: 1.3654 - accuracy: 0.4959 - val_loss: 0.8660 - val_accuracy: 0.7812\n",
            "\n",
            "Epoch 00065: val_accuracy did not improve from 0.81250\n",
            "Epoch 66/100\n",
            "389/389 [==============================] - 264s 678ms/step - loss: 1.3690 - accuracy: 0.4969 - val_loss: 0.8727 - val_accuracy: 0.7500\n",
            "\n",
            "Epoch 00066: val_accuracy did not improve from 0.81250\n",
            "Epoch 67/100\n",
            "389/389 [==============================] - 262s 673ms/step - loss: 1.3782 - accuracy: 0.4883 - val_loss: 0.8734 - val_accuracy: 0.7812\n",
            "\n",
            "Epoch 00067: val_accuracy did not improve from 0.81250\n",
            "Epoch 68/100\n",
            "389/389 [==============================] - 262s 674ms/step - loss: 1.3697 - accuracy: 0.4986 - val_loss: 0.9425 - val_accuracy: 0.7500\n",
            "\n",
            "Epoch 00068: val_accuracy did not improve from 0.81250\n",
            "Epoch 69/100\n",
            "389/389 [==============================] - 261s 671ms/step - loss: 1.3640 - accuracy: 0.5037 - val_loss: 0.9185 - val_accuracy: 0.7500\n",
            "\n",
            "Epoch 00069: val_accuracy did not improve from 0.81250\n",
            "Epoch 70/100\n",
            "389/389 [==============================] - 261s 670ms/step - loss: 1.3673 - accuracy: 0.4963 - val_loss: 0.9532 - val_accuracy: 0.7500\n",
            "\n",
            "Epoch 00070: val_accuracy did not improve from 0.81250\n",
            "Epoch 71/100\n",
            "389/389 [==============================] - 263s 676ms/step - loss: 1.3682 - accuracy: 0.4992 - val_loss: 0.9357 - val_accuracy: 0.7188\n",
            "\n",
            "Epoch 00071: val_accuracy did not improve from 0.81250\n",
            "Epoch 72/100\n",
            "389/389 [==============================] - 261s 670ms/step - loss: 1.3623 - accuracy: 0.5020 - val_loss: 0.8967 - val_accuracy: 0.7500\n",
            "\n",
            "Epoch 00072: val_accuracy did not improve from 0.81250\n",
            "Epoch 73/100\n",
            "389/389 [==============================] - 263s 676ms/step - loss: 1.3638 - accuracy: 0.5016 - val_loss: 0.8815 - val_accuracy: 0.7812\n",
            "\n",
            "Epoch 00073: val_accuracy did not improve from 0.81250\n",
            "Epoch 74/100\n",
            "389/389 [==============================] - 261s 670ms/step - loss: 1.3590 - accuracy: 0.5066 - val_loss: 0.9106 - val_accuracy: 0.7500\n",
            "\n",
            "Epoch 00074: val_accuracy did not improve from 0.81250\n",
            "Epoch 75/100\n",
            "389/389 [==============================] - 262s 672ms/step - loss: 1.3670 - accuracy: 0.4966 - val_loss: 0.8752 - val_accuracy: 0.7500\n",
            "\n",
            "Epoch 00075: val_accuracy did not improve from 0.81250\n",
            "Epoch 76/100\n",
            "389/389 [==============================] - 262s 674ms/step - loss: 1.3617 - accuracy: 0.5046 - val_loss: 0.8701 - val_accuracy: 0.7500\n",
            "\n",
            "Epoch 00076: val_accuracy did not improve from 0.81250\n",
            "Epoch 77/100\n",
            "389/389 [==============================] - 262s 672ms/step - loss: 1.3538 - accuracy: 0.5062 - val_loss: 0.9434 - val_accuracy: 0.7500\n",
            "\n",
            "Epoch 00077: val_accuracy did not improve from 0.81250\n",
            "Epoch 78/100\n",
            "389/389 [==============================] - 263s 676ms/step - loss: 1.3557 - accuracy: 0.5060 - val_loss: 0.8590 - val_accuracy: 0.7500\n",
            "\n",
            "Epoch 00078: val_accuracy did not improve from 0.81250\n",
            "Epoch 79/100\n",
            "389/389 [==============================] - 262s 673ms/step - loss: 1.3489 - accuracy: 0.5070 - val_loss: 0.8475 - val_accuracy: 0.8125\n",
            "\n",
            "Epoch 00079: val_accuracy did not improve from 0.81250\n",
            "Epoch 80/100\n",
            "389/389 [==============================] - 261s 672ms/step - loss: 1.3512 - accuracy: 0.5044 - val_loss: 0.8781 - val_accuracy: 0.7812\n",
            "\n",
            "Epoch 00080: val_accuracy did not improve from 0.81250\n",
            "Epoch 81/100\n",
            "389/389 [==============================] - 262s 673ms/step - loss: 1.3509 - accuracy: 0.5035 - val_loss: 0.8286 - val_accuracy: 0.8438\n",
            "\n",
            "Epoch 00081: val_accuracy improved from 0.81250 to 0.84375, saving model to vgg16_2.h5\n",
            "Epoch 82/100\n",
            "389/389 [==============================] - 263s 676ms/step - loss: 1.3472 - accuracy: 0.5039 - val_loss: 0.8356 - val_accuracy: 0.7812\n",
            "\n",
            "Epoch 00082: val_accuracy did not improve from 0.84375\n",
            "Epoch 83/100\n",
            "389/389 [==============================] - 262s 673ms/step - loss: 1.3554 - accuracy: 0.5026 - val_loss: 0.8908 - val_accuracy: 0.7500\n",
            "\n",
            "Epoch 00083: val_accuracy did not improve from 0.84375\n",
            "Epoch 84/100\n",
            "389/389 [==============================] - 263s 675ms/step - loss: 1.3501 - accuracy: 0.5046 - val_loss: 0.9352 - val_accuracy: 0.7188\n",
            "\n",
            "Epoch 00084: val_accuracy did not improve from 0.84375\n",
            "Epoch 85/100\n",
            "389/389 [==============================] - 261s 671ms/step - loss: 1.3472 - accuracy: 0.5096 - val_loss: 0.8467 - val_accuracy: 0.7500\n",
            "\n",
            "Epoch 00085: val_accuracy did not improve from 0.84375\n",
            "Epoch 86/100\n",
            "389/389 [==============================] - 261s 670ms/step - loss: 1.3462 - accuracy: 0.5037 - val_loss: 0.8960 - val_accuracy: 0.7500\n",
            "\n",
            "Epoch 00086: val_accuracy did not improve from 0.84375\n",
            "Epoch 87/100\n",
            "389/389 [==============================] - 264s 678ms/step - loss: 1.3491 - accuracy: 0.5050 - val_loss: 0.8992 - val_accuracy: 0.7188\n",
            "\n",
            "Epoch 00087: val_accuracy did not improve from 0.84375\n",
            "Epoch 88/100\n",
            "389/389 [==============================] - 263s 676ms/step - loss: 1.3443 - accuracy: 0.5052 - val_loss: 0.8202 - val_accuracy: 0.8438\n",
            "\n",
            "Epoch 00088: val_accuracy did not improve from 0.84375\n",
            "Epoch 89/100\n",
            "389/389 [==============================] - 263s 676ms/step - loss: 1.3385 - accuracy: 0.5071 - val_loss: 0.8458 - val_accuracy: 0.8125\n",
            "\n",
            "Epoch 00089: val_accuracy did not improve from 0.84375\n",
            "Epoch 90/100\n",
            "389/389 [==============================] - 261s 671ms/step - loss: 1.3362 - accuracy: 0.5118 - val_loss: 0.8776 - val_accuracy: 0.7812\n",
            "\n",
            "Epoch 00090: val_accuracy did not improve from 0.84375\n",
            "Epoch 91/100\n",
            "389/389 [==============================] - 261s 672ms/step - loss: 1.3361 - accuracy: 0.5081 - val_loss: 0.8733 - val_accuracy: 0.7500\n",
            "\n",
            "Epoch 00091: val_accuracy did not improve from 0.84375\n",
            "Epoch 92/100\n",
            "389/389 [==============================] - 263s 675ms/step - loss: 1.3415 - accuracy: 0.5068 - val_loss: 0.8603 - val_accuracy: 0.7812\n",
            "\n",
            "Epoch 00092: val_accuracy did not improve from 0.84375\n",
            "Epoch 93/100\n",
            "389/389 [==============================] - 262s 675ms/step - loss: 1.3444 - accuracy: 0.5095 - val_loss: 0.9063 - val_accuracy: 0.7500\n",
            "\n",
            "Epoch 00093: val_accuracy did not improve from 0.84375\n",
            "Epoch 94/100\n",
            "389/389 [==============================] - 263s 676ms/step - loss: 1.3392 - accuracy: 0.5076 - val_loss: 0.8707 - val_accuracy: 0.7500\n",
            "\n",
            "Epoch 00094: val_accuracy did not improve from 0.84375\n",
            "Epoch 95/100\n",
            "389/389 [==============================] - 261s 670ms/step - loss: 1.3374 - accuracy: 0.5136 - val_loss: 0.8795 - val_accuracy: 0.7812\n",
            "\n",
            "Epoch 00095: val_accuracy did not improve from 0.84375\n",
            "Epoch 96/100\n",
            "389/389 [==============================] - 262s 675ms/step - loss: 1.3315 - accuracy: 0.5079 - val_loss: 0.7799 - val_accuracy: 0.8438\n",
            "\n",
            "Epoch 00096: val_accuracy did not improve from 0.84375\n",
            "Epoch 97/100\n",
            "389/389 [==============================] - 262s 673ms/step - loss: 1.3385 - accuracy: 0.5036 - val_loss: 0.8956 - val_accuracy: 0.7812\n",
            "\n",
            "Epoch 00097: val_accuracy did not improve from 0.84375\n",
            "Epoch 98/100\n",
            "389/389 [==============================] - 263s 676ms/step - loss: 1.3294 - accuracy: 0.5102 - val_loss: 0.8232 - val_accuracy: 0.8125\n",
            "\n",
            "Epoch 00098: val_accuracy did not improve from 0.84375\n",
            "Epoch 99/100\n",
            "389/389 [==============================] - 262s 673ms/step - loss: 1.3356 - accuracy: 0.5138 - val_loss: 0.8616 - val_accuracy: 0.7500\n",
            "\n",
            "Epoch 00099: val_accuracy did not improve from 0.84375\n",
            "Epoch 100/100\n",
            "389/389 [==============================] - 261s 671ms/step - loss: 1.3251 - accuracy: 0.5217 - val_loss: 0.8330 - val_accuracy: 0.7812\n",
            "\n",
            "Epoch 00100: val_accuracy did not improve from 0.84375\n"
          ],
          "name": "stdout"
        }
      ]
    },
    {
      "cell_type": "markdown",
      "metadata": {
        "id": "qfP_CUxVb1a7"
      },
      "source": [
        "Plot the accuarcy and loss for training and validation\n"
      ]
    },
    {
      "cell_type": "code",
      "metadata": {
        "colab": {
          "base_uri": "https://localhost:8080/",
          "height": 545
        },
        "id": "iojJ2uzFdkzK",
        "outputId": "db69794b-07cb-4742-ea78-af4b686570ff"
      },
      "source": [
        "acc = vgg_2_hist.history['accuracy']\n",
        "val_acc = vgg_2_hist.history['val_accuracy']\n",
        "loss = vgg_2_hist.history['loss']\n",
        "val_loss = vgg_2_hist.history['val_loss']\n",
        "epochs = range(len(acc))\n",
        "\n",
        "\n",
        "plt.plot(epochs, acc, 'g', label='Training acc')\n",
        "plt.plot(epochs, val_acc, 'b', label='Validation acc')\n",
        "plt.title('Training and validation accuracy')\n",
        "plt.legend()\n",
        "plt.show()\n",
        "\n",
        "plt.plot(epochs, loss, 'g', label='Training loss')\n",
        "plt.plot(epochs, val_loss, 'b', label='Validation loss')\n",
        "plt.title('Training and validation loss')\n",
        "plt.legend()\n",
        "plt.show()"
      ],
      "execution_count": null,
      "outputs": [
        {
          "output_type": "display_data",
          "data": {
            "image/png": "[encoded data removed]",
            "text/plain": [
              "<Figure size 432x288 with 1 Axes>"
            ]
          },
          "metadata": {
            "tags": [],
            "needs_background": "light"
          }
        },
        {
          "output_type": "display_data",
          "data": {
            "image/png": "[encoded data removed]",
            "text/plain": [
              "<Figure size 432x288 with 1 Axes>"
            ]
          },
          "metadata": {
            "tags": [],
            "needs_background": "light"
          }
        }
      ]
    },
    {
      "cell_type": "code",
      "metadata": {
        "id": "p4L6CJgZNegh"
      },
      "source": [
        "test_datagen = ImageDataGenerator(rescale=1./255)"
      ],
      "execution_count": 4,
      "outputs": []
    },
    {
      "cell_type": "code",
      "metadata": {
        "colab": {
          "base_uri": "https://localhost:8080/"
        },
        "id": "QNaDkYwbPNdw",
        "outputId": "3122c3c5-acba-4644-e020-a235a70c27ff"
      },
      "source": [
        "test_generator_vgg2 = test_datagen.flow_from_directory(test_dir, \n",
        "                                                              target_size=(224, 224), \n",
        "                                                              batch_size=32, \n",
        "                                                              class_mode='categorical',\n",
        "                                                              shuffle=False)"
      ],
      "execution_count": 5,
      "outputs": [
        {
          "output_type": "stream",
          "text": [
            "Found 3147 images belonging to 7 classes.\n"
          ],
          "name": "stdout"
        }
      ]
    },
    {
      "cell_type": "markdown",
      "metadata": {
        "id": "4PJn_XICcXtr"
      },
      "source": [
        "Load the model. I had to do this because I came back to the model after it ran"
      ]
    },
    {
      "cell_type": "code",
      "metadata": {
        "id": "OddVTGuzDPCe"
      },
      "source": [
        "best_vgg2_model=load_model('/content/drive/MyDrive/vgg16_2.h5')"
      ],
      "execution_count": 6,
      "outputs": []
    },
    {
      "cell_type": "code",
      "metadata": {
        "id": "0r20WZOlDPJD"
      },
      "source": [
        "y_pred_best = best_vgg2_model.predict(test_generator_vgg2, batch_size=32)"
      ],
      "execution_count": null,
      "outputs": []
    },
    {
      "cell_type": "code",
      "metadata": {
        "id": "7978h3HmfYPV"
      },
      "source": [
        "y_pred_best = np.argmax(y_pred_best, axis=1)"
      ],
      "execution_count": 16,
      "outputs": []
    },
    {
      "cell_type": "code",
      "metadata": {
        "id": "53kPc8_cdsyr"
      },
      "source": [
        "def plot_confusion_mat(cm, classes,\n",
        "                        normalize=False,\n",
        "                        title='Confusion matrix',\n",
        "                        cmap=plt.cm.Blues):\n",
        "    \"\"\"\n",
        "    This function prints and plots the confusion matrix.\n",
        "    Normalization can be applied by setting `normalize=True`.\n",
        "    \"\"\"\n",
        "    plt.imshow(cm, interpolation='nearest', cmap=cmap)\n",
        "    plt.title(title)\n",
        "    plt.colorbar()\n",
        "    tick_marks = np.arange(len(classes))\n",
        "    plt.xticks(tick_marks, classes, rotation=45)\n",
        "    plt.yticks(tick_marks, classes)\n",
        "    \n",
        "    if normalize:\n",
        "      cm = cm.astype('float') / cm.sum(axis=1)[:, np.newaxis]\n",
        "      print(\"Normalized confusion matrix\")\n",
        "    else:\n",
        "      print('Confusion matrix, without normalization')\n",
        "\n",
        "\n",
        "    thresh = cm.max() / 2.\n",
        "    for i, j in itertools.product(range(cm.shape[0]), range(cm.shape[1])):\n",
        "        plt.text(j, i, cm[i, j],\n",
        "            horizontalalignment=\"center\",\n",
        "            color=\"white\" if cm[i, j] > thresh else \"black\")\n",
        "\n",
        "    plt.tight_layout()\n",
        "    plt.ylabel('True label')\n",
        "    plt.xlabel('Predicted label')"
      ],
      "execution_count": 17,
      "outputs": []
    },
    {
      "cell_type": "code",
      "metadata": {
        "id": "qnuvCaQDd1fU"
      },
      "source": [
        "cm_plot_labels = [key for key,value in test_generator_vgg2.class_indices.items()]\n",
        "cm = confusion_matrix(test_generator_vgg2.classes, y_pred_best)"
      ],
      "execution_count": 18,
      "outputs": []
    },
    {
      "cell_type": "code",
      "metadata": {
        "colab": {
          "base_uri": "https://localhost:8080/",
          "height": 328
        },
        "id": "lYXMWmTwDPOw",
        "outputId": "afea84f4-49f1-4b00-c53c-fec1218cd73a"
      },
      "source": [
        "plot_confusion_mat(cm=cm, classes=cm_plot_labels, title='Confusion Matrix')"
      ],
      "execution_count": 21,
      "outputs": [
        {
          "output_type": "stream",
          "text": [
            "Confusion matrix, without normalization\n"
          ],
          "name": "stdout"
        },
        {
          "output_type": "display_data",
          "data": {
            "image/png": "[encoded data removed]",
            "text/plain": [
              "<Figure size 432x288 with 2 Axes>"
            ]
          },
          "metadata": {
            "tags": [],
            "needs_background": "light"
          }
        }
      ]
    },
    {
      "cell_type": "code",
      "metadata": {
        "colab": {
          "base_uri": "https://localhost:8080/"
        },
        "id": "JuzxVScFFBgV",
        "outputId": "2aef15aa-aa49-492d-de2a-b1e2bac2c36f"
      },
      "source": [
        "print(classification_report(test_generator_vgg2.classes, y_pred_best, target_names = [key for key,value in test_generator_vgg2.class_indices.items()]))"
      ],
      "execution_count": 22,
      "outputs": [
        {
          "output_type": "stream",
          "text": [
            "                precision    recall  f1-score   support\n",
            "\n",
            "    earthquake       0.49      0.72      0.58       404\n",
            "          fire       0.38      0.44      0.41       280\n",
            "         flood       0.53      0.60      0.56       599\n",
            "     hurricane       0.38      0.37      0.37       352\n",
            "     landslide       0.62      0.31      0.42       220\n",
            "  not_disaster       0.74      0.76      0.75       990\n",
            "other_disaster       0.46      0.11      0.18       302\n",
            "\n",
            "      accuracy                           0.56      3147\n",
            "     macro avg       0.51      0.47      0.47      3147\n",
            "  weighted avg       0.56      0.56      0.54      3147\n",
            "\n"
          ],
          "name": "stdout"
        }
      ]
    },
    {
      "cell_type": "markdown",
      "metadata": {
        "id": "5q2D_TTdft6k"
      },
      "source": [
        ""
      ]
    }
  ]
}