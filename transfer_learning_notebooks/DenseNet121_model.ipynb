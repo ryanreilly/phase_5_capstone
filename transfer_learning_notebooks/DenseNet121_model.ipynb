{
  "nbformat": 4,
  "nbformat_minor": 0,
  "metadata": {
    "colab": {
      "name": "DenseNet121_model.ipynb",
      "provenance": [],
      "machine_shape": "hm",
      "mount_file_id": "1pH0oADOR_jVma8YQ7ws8BhI195nqWoym",
      "authorship_tag": "ABX9TyO0ITM3FjI+/zrMqCQ8YH89",
      "include_colab_link": true
    },
    "kernelspec": {
      "name": "python3",
      "display_name": "Python 3"
    },
    "language_info": {
      "name": "python"
    },
    "accelerator": "GPU"
  },
  "cells": [
    {
      "cell_type": "markdown",
      "metadata": {
        "id": "view-in-github",
        "colab_type": "text"
      },
      "source": [
        "<a href=\"https://colab.research.google.com/github/ryanreilly/phase_5_capstone/blob/main/DenseNet121_model.ipynb\" target=\"_parent\"><img src=\"https://colab.research.google.com/assets/colab-badge.svg\" alt=\"Open In Colab\"/></a>"
      ]
    },
    {
      "cell_type": "code",
      "metadata": {
        "id": "826gQbMJzVyT"
      },
      "source": [
        "#Load the data from my google drive\n",
        "from google.colab import drive\n",
        "!unzip drive/MyDrive/train.zip\n",
        "!unzip drive/MyDrive/dev.zip\n",
        "!unzip drive/MyDrive/test.zip"
      ],
      "execution_count": null,
      "outputs": []
    },
    {
      "cell_type": "code",
      "metadata": {
        "id": "7_X-D0CAYUCR"
      },
      "source": [
        "#This is to see what GPU Google gave me\n",
        "gpu_info = !nvidia-smi\n",
        "gpu_info = '\\n'.join(gpu_info)\n",
        "if gpu_info.find('failed') >= 0:\n",
        "  print('Select the Runtime > \"Change runtime type\" menu to enable a GPU accelerator, ')\n",
        "  print('and then re-execute this cell.')\n",
        "else:\n",
        "  print(gpu_info)"
      ],
      "execution_count": null,
      "outputs": []
    },
    {
      "cell_type": "code",
      "metadata": {
        "id": "fmOH8DYm2BQW"
      },
      "source": [
        "#Set directories\n",
        "train_dir = 'train'\n",
        "validation_dir = 'dev'\n",
        "test_dir = 'test'"
      ],
      "execution_count": 3,
      "outputs": []
    },
    {
      "cell_type": "code",
      "metadata": {
        "id": "znDr3H9H2BSe"
      },
      "source": [
        "#For manipulating and visualizing images\n",
        "import numpy as np\n",
        "import pandas as pd\n",
        "import matplotlib as mpl\n",
        "import matplotlib.pyplot as plt\n",
        "%matplotlib inline\n",
        "import seaborn as sns\n",
        "\n",
        "#To load an image using Keras\n",
        "from tensorflow.keras.preprocessing.image import load_img, ImageDataGenerator\n",
        "from tensorflow.keras.layers import Flatten, Dense, Dropout, Input, Conv2D, MaxPooling2D, BatchNormalization, GlobalAveragePooling2D\n",
        "from tensorflow.keras import optimizers, models, applications\n",
        "from tensorflow.keras.callbacks import ModelCheckpoint, EarlyStopping\n",
        "from tensorflow.keras.applications.densenet import DenseNet121\n",
        "from tensorflow.keras.models import Model, load_model, save_model\n",
        "\n",
        "from sklearn.metrics import confusion_matrix, plot_confusion_matrix, classification_report\n",
        "\n",
        "#to track how long the models run\n",
        "import datetime\n",
        "\n",
        "#For dividing the images into correct folders\n",
        "import shutil\n",
        "import os\n",
        "\n",
        "#To ignore warnings\n",
        "import warnings\n",
        "warnings.filterwarnings('ignore')"
      ],
      "execution_count": 4,
      "outputs": []
    },
    {
      "cell_type": "code",
      "metadata": {
        "id": "t4uT4FwN2BUo"
      },
      "source": [
        "# All images will be rescaled by 1./255\n",
        "train_datagen = ImageDataGenerator(rescale=1./255, \n",
        "                                   rotation_range=30,\n",
        "                                   width_shift_range=0.2,\n",
        "                                   height_shift_range=0.2,\n",
        "                                   shear_range=0.2,\n",
        "                                   zoom_range=0.2,\n",
        "                                   horizontal_flip=True,\n",
        "                                   fill_mode='nearest')\n",
        "            \n",
        "validation_datagen = ImageDataGenerator(rescale=1./255)"
      ],
      "execution_count": 5,
      "outputs": []
    },
    {
      "cell_type": "code",
      "metadata": {
        "id": "O-oh3GzR2BW8",
        "colab": {
          "base_uri": "https://localhost:8080/"
        },
        "outputId": "47f7b11f-1fd6-4ba8-a0ea-ff9efc26d1d3"
      },
      "source": [
        "#Create train and validation generators\n",
        "train_generator_dense = train_datagen.flow_from_directory(train_dir,\n",
        "                                                    target_size=(240, 240),\n",
        "                                                    batch_size=32,\n",
        "                                                    class_mode='categorical')\n",
        "\n",
        "validation_generator_dense = validation_datagen.flow_from_directory(validation_dir, \n",
        "                                                              target_size=(240, 240), \n",
        "                                                              batch_size=32, \n",
        "                                                              class_mode='categorical',\n",
        "                                                              shuffle=False)"
      ],
      "execution_count": 7,
      "outputs": [
        {
          "output_type": "stream",
          "text": [
            "Found 12422 images belonging to 7 classes.\n",
            "Found 1458 images belonging to 7 classes.\n"
          ],
          "name": "stdout"
        }
      ]
    },
    {
      "cell_type": "code",
      "metadata": {
        "id": "3P3KM7hB2BZW",
        "colab": {
          "base_uri": "https://localhost:8080/"
        },
        "outputId": "15a93e7e-746a-4d8a-ab5e-ccb864634504"
      },
      "source": [
        "#Build the model\n",
        "Densenet = DenseNet121(\n",
        "    input_shape= (224,224,3),\n",
        "    include_top=False,\n",
        "    weights='imagenet')\n",
        "\n",
        "\n",
        "Densenet.trainable = False\n",
        "\n",
        "# Define Model Architecture\n",
        "X = Densenet.output\n",
        "X = GlobalAveragePooling2D()(X)\n",
        "X = BatchNormalization()(X)\n",
        "X = Dropout(0.5)(X)\n",
        "X = Dense(1024,activation='relu')(X) \n",
        "X = Dense(512,activation='relu')(X) \n",
        "X = BatchNormalization()(X)\n",
        "X = Dropout(0.5)(X)\n",
        "outputs = Dense(7, activation='softmax')(X)\n",
        "\n",
        "model_dense = Model(Densenet.input, outputs)\n",
        "\n",
        "\n",
        "opt = optimizers.Adam(learning_rate=0.00001)\n",
        "model_dense.compile(loss='categorical_crossentropy',\n",
        "              optimizer=opt,\n",
        "              metrics=['accuracy'])\n",
        "\n",
        "\n",
        "history_6= model_dense.fit_generator(generator= train_generator_dense,\n",
        "                                    epochs= 60, \n",
        "                                    validation_data= validation_generator_dense, \n",
        "                                    validation_steps=1)"
      ],
      "execution_count": 8,
      "outputs": [
        {
          "output_type": "stream",
          "text": [
            "Epoch 1/60\n",
            "389/389 [==============================] - 300s 720ms/step - loss: 2.7640 - accuracy: 0.2129 - val_loss: 1.1823 - val_accuracy: 0.5938\n",
            "Epoch 2/60\n",
            "389/389 [==============================] - 279s 716ms/step - loss: 2.2335 - accuracy: 0.3375 - val_loss: 0.8007 - val_accuracy: 0.8125\n",
            "Epoch 3/60\n",
            "389/389 [==============================] - 279s 716ms/step - loss: 2.0297 - accuracy: 0.3953 - val_loss: 0.6280 - val_accuracy: 0.8750\n",
            "Epoch 4/60\n",
            "389/389 [==============================] - 277s 713ms/step - loss: 1.9299 - accuracy: 0.4229 - val_loss: 0.5685 - val_accuracy: 0.8750\n",
            "Epoch 5/60\n",
            "389/389 [==============================] - 278s 714ms/step - loss: 1.8126 - accuracy: 0.4570 - val_loss: 0.5189 - val_accuracy: 0.8438\n",
            "Epoch 6/60\n",
            "389/389 [==============================] - 278s 715ms/step - loss: 1.7697 - accuracy: 0.4737 - val_loss: 0.5056 - val_accuracy: 0.8750\n",
            "Epoch 7/60\n",
            "389/389 [==============================] - 276s 710ms/step - loss: 1.7093 - accuracy: 0.4927 - val_loss: 0.4940 - val_accuracy: 0.8750\n",
            "Epoch 8/60\n",
            "389/389 [==============================] - 278s 715ms/step - loss: 1.6535 - accuracy: 0.5041 - val_loss: 0.4955 - val_accuracy: 0.8750\n",
            "Epoch 9/60\n",
            "389/389 [==============================] - 278s 713ms/step - loss: 1.6490 - accuracy: 0.5056 - val_loss: 0.5076 - val_accuracy: 0.8750\n",
            "Epoch 10/60\n",
            "389/389 [==============================] - 278s 715ms/step - loss: 1.6013 - accuracy: 0.5189 - val_loss: 0.5112 - val_accuracy: 0.8750\n",
            "Epoch 11/60\n",
            "389/389 [==============================] - 278s 715ms/step - loss: 1.5749 - accuracy: 0.5288 - val_loss: 0.5238 - val_accuracy: 0.8750\n",
            "Epoch 12/60\n",
            "389/389 [==============================] - 278s 714ms/step - loss: 1.5431 - accuracy: 0.5368 - val_loss: 0.5246 - val_accuracy: 0.8750\n",
            "Epoch 13/60\n",
            "389/389 [==============================] - 277s 712ms/step - loss: 1.5364 - accuracy: 0.5378 - val_loss: 0.4924 - val_accuracy: 0.8750\n",
            "Epoch 14/60\n",
            "389/389 [==============================] - 277s 713ms/step - loss: 1.5304 - accuracy: 0.5326 - val_loss: 0.5003 - val_accuracy: 0.8750\n",
            "Epoch 15/60\n",
            "389/389 [==============================] - 278s 714ms/step - loss: 1.5143 - accuracy: 0.5386 - val_loss: 0.5045 - val_accuracy: 0.8750\n",
            "Epoch 16/60\n",
            "389/389 [==============================] - 279s 716ms/step - loss: 1.4872 - accuracy: 0.5477 - val_loss: 0.5101 - val_accuracy: 0.8750\n",
            "Epoch 17/60\n",
            "389/389 [==============================] - 278s 715ms/step - loss: 1.4503 - accuracy: 0.5535 - val_loss: 0.4944 - val_accuracy: 0.8750\n",
            "Epoch 18/60\n",
            "389/389 [==============================] - 277s 712ms/step - loss: 1.4435 - accuracy: 0.5560 - val_loss: 0.5106 - val_accuracy: 0.8750\n",
            "Epoch 19/60\n",
            "389/389 [==============================] - 279s 717ms/step - loss: 1.4456 - accuracy: 0.5548 - val_loss: 0.5229 - val_accuracy: 0.8438\n",
            "Epoch 20/60\n",
            "389/389 [==============================] - 277s 713ms/step - loss: 1.4353 - accuracy: 0.5555 - val_loss: 0.5392 - val_accuracy: 0.8438\n",
            "Epoch 21/60\n",
            "389/389 [==============================] - 278s 715ms/step - loss: 1.4139 - accuracy: 0.5573 - val_loss: 0.4975 - val_accuracy: 0.8438\n",
            "Epoch 22/60\n",
            "389/389 [==============================] - 278s 715ms/step - loss: 1.3944 - accuracy: 0.5659 - val_loss: 0.4996 - val_accuracy: 0.8438\n",
            "Epoch 23/60\n",
            "389/389 [==============================] - 277s 712ms/step - loss: 1.3949 - accuracy: 0.5599 - val_loss: 0.5024 - val_accuracy: 0.8438\n",
            "Epoch 24/60\n",
            "389/389 [==============================] - 278s 714ms/step - loss: 1.3649 - accuracy: 0.5706 - val_loss: 0.4791 - val_accuracy: 0.8438\n",
            "Epoch 25/60\n",
            "389/389 [==============================] - 278s 716ms/step - loss: 1.3612 - accuracy: 0.5691 - val_loss: 0.4675 - val_accuracy: 0.8438\n",
            "Epoch 26/60\n",
            "389/389 [==============================] - 277s 712ms/step - loss: 1.3683 - accuracy: 0.5744 - val_loss: 0.4630 - val_accuracy: 0.8438\n",
            "Epoch 27/60\n",
            "389/389 [==============================] - 278s 713ms/step - loss: 1.3639 - accuracy: 0.5741 - val_loss: 0.4586 - val_accuracy: 0.8438\n",
            "Epoch 28/60\n",
            "389/389 [==============================] - 277s 713ms/step - loss: 1.3406 - accuracy: 0.5776 - val_loss: 0.4907 - val_accuracy: 0.8438\n",
            "Epoch 29/60\n",
            "389/389 [==============================] - 278s 715ms/step - loss: 1.3173 - accuracy: 0.5787 - val_loss: 0.4645 - val_accuracy: 0.8438\n",
            "Epoch 30/60\n",
            "389/389 [==============================] - 279s 716ms/step - loss: 1.2991 - accuracy: 0.5891 - val_loss: 0.4609 - val_accuracy: 0.8438\n",
            "Epoch 31/60\n",
            "389/389 [==============================] - 278s 714ms/step - loss: 1.3042 - accuracy: 0.5838 - val_loss: 0.4857 - val_accuracy: 0.8438\n",
            "Epoch 32/60\n",
            "389/389 [==============================] - 278s 714ms/step - loss: 1.3144 - accuracy: 0.5822 - val_loss: 0.4844 - val_accuracy: 0.8438\n",
            "Epoch 33/60\n",
            "389/389 [==============================] - 277s 712ms/step - loss: 1.2900 - accuracy: 0.5864 - val_loss: 0.4615 - val_accuracy: 0.8438\n",
            "Epoch 34/60\n",
            "389/389 [==============================] - 278s 714ms/step - loss: 1.2862 - accuracy: 0.5884 - val_loss: 0.4864 - val_accuracy: 0.8438\n",
            "Epoch 35/60\n",
            "389/389 [==============================] - 278s 715ms/step - loss: 1.2772 - accuracy: 0.5927 - val_loss: 0.5025 - val_accuracy: 0.8438\n",
            "Epoch 36/60\n",
            "389/389 [==============================] - 277s 713ms/step - loss: 1.2923 - accuracy: 0.5857 - val_loss: 0.4947 - val_accuracy: 0.8438\n",
            "Epoch 37/60\n",
            "389/389 [==============================] - 277s 713ms/step - loss: 1.2665 - accuracy: 0.5903 - val_loss: 0.4829 - val_accuracy: 0.8438\n",
            "Epoch 38/60\n",
            "389/389 [==============================] - 278s 715ms/step - loss: 1.2576 - accuracy: 0.5917 - val_loss: 0.4953 - val_accuracy: 0.8438\n",
            "Epoch 39/60\n",
            "389/389 [==============================] - 278s 715ms/step - loss: 1.2495 - accuracy: 0.5989 - val_loss: 0.4995 - val_accuracy: 0.8438\n",
            "Epoch 40/60\n",
            "389/389 [==============================] - 277s 712ms/step - loss: 1.2341 - accuracy: 0.5994 - val_loss: 0.5067 - val_accuracy: 0.8438\n",
            "Epoch 41/60\n",
            "389/389 [==============================] - 278s 715ms/step - loss: 1.2363 - accuracy: 0.6003 - val_loss: 0.5123 - val_accuracy: 0.8438\n",
            "Epoch 42/60\n",
            "389/389 [==============================] - 277s 712ms/step - loss: 1.2500 - accuracy: 0.5943 - val_loss: 0.4829 - val_accuracy: 0.8438\n",
            "Epoch 43/60\n",
            "389/389 [==============================] - 278s 715ms/step - loss: 1.2317 - accuracy: 0.6001 - val_loss: 0.5129 - val_accuracy: 0.8438\n",
            "Epoch 44/60\n",
            "389/389 [==============================] - 279s 718ms/step - loss: 1.2192 - accuracy: 0.6034 - val_loss: 0.4996 - val_accuracy: 0.8438\n",
            "Epoch 45/60\n",
            "389/389 [==============================] - 278s 714ms/step - loss: 1.2153 - accuracy: 0.6004 - val_loss: 0.4972 - val_accuracy: 0.8438\n",
            "Epoch 46/60\n",
            "389/389 [==============================] - 277s 712ms/step - loss: 1.2112 - accuracy: 0.6062 - val_loss: 0.4854 - val_accuracy: 0.8438\n",
            "Epoch 47/60\n",
            "389/389 [==============================] - 277s 713ms/step - loss: 1.1932 - accuracy: 0.6097 - val_loss: 0.4897 - val_accuracy: 0.8438\n",
            "Epoch 48/60\n",
            "389/389 [==============================] - 278s 715ms/step - loss: 1.2144 - accuracy: 0.5992 - val_loss: 0.5098 - val_accuracy: 0.8438\n",
            "Epoch 49/60\n",
            "389/389 [==============================] - 278s 715ms/step - loss: 1.2030 - accuracy: 0.6003 - val_loss: 0.5330 - val_accuracy: 0.8438\n",
            "Epoch 50/60\n",
            "389/389 [==============================] - 277s 712ms/step - loss: 1.2012 - accuracy: 0.6060 - val_loss: 0.4963 - val_accuracy: 0.8438\n",
            "Epoch 51/60\n",
            "389/389 [==============================] - 279s 716ms/step - loss: 1.1904 - accuracy: 0.6026 - val_loss: 0.5087 - val_accuracy: 0.8438\n",
            "Epoch 52/60\n",
            "389/389 [==============================] - 278s 716ms/step - loss: 1.1780 - accuracy: 0.6107 - val_loss: 0.5068 - val_accuracy: 0.8438\n",
            "Epoch 53/60\n",
            "389/389 [==============================] - 277s 711ms/step - loss: 1.1717 - accuracy: 0.6071 - val_loss: 0.5068 - val_accuracy: 0.8438\n",
            "Epoch 54/60\n",
            "389/389 [==============================] - 279s 716ms/step - loss: 1.1788 - accuracy: 0.6114 - val_loss: 0.5186 - val_accuracy: 0.8438\n",
            "Epoch 55/60\n",
            "389/389 [==============================] - 278s 714ms/step - loss: 1.1621 - accuracy: 0.6167 - val_loss: 0.5168 - val_accuracy: 0.8438\n",
            "Epoch 56/60\n",
            "389/389 [==============================] - 278s 715ms/step - loss: 1.1647 - accuracy: 0.6136 - val_loss: 0.4917 - val_accuracy: 0.8438\n",
            "Epoch 57/60\n",
            "389/389 [==============================] - 278s 715ms/step - loss: 1.1620 - accuracy: 0.6139 - val_loss: 0.4813 - val_accuracy: 0.8438\n",
            "Epoch 58/60\n",
            "389/389 [==============================] - 278s 713ms/step - loss: 1.1322 - accuracy: 0.6173 - val_loss: 0.4763 - val_accuracy: 0.8438\n",
            "Epoch 59/60\n",
            "389/389 [==============================] - 278s 714ms/step - loss: 1.1389 - accuracy: 0.6163 - val_loss: 0.5157 - val_accuracy: 0.8438\n",
            "Epoch 60/60\n",
            "389/389 [==============================] - 277s 713ms/step - loss: 1.1564 - accuracy: 0.6188 - val_loss: 0.4953 - val_accuracy: 0.8438\n"
          ],
          "name": "stdout"
        }
      ]
    },
    {
      "cell_type": "code",
      "metadata": {
        "id": "_CZZKXaVoaW0"
      },
      "source": [
        "model_dense.save('model_dense2.h5') "
      ],
      "execution_count": 9,
      "outputs": []
    },
    {
      "cell_type": "code",
      "metadata": {
        "id": "fqehyqw72O-i",
        "colab": {
          "base_uri": "https://localhost:8080/",
          "height": 545
        },
        "outputId": "fa75926e-5a4d-49db-a261-000db99c5f39"
      },
      "source": [
        "acc = history_6.history['accuracy']\n",
        "val_acc = history_6.history['val_accuracy']\n",
        "loss = history_6.history['loss']\n",
        "val_loss = history_6.history['val_loss']\n",
        "epochs = range(len(acc))\n",
        "\n",
        "\n",
        "plt.plot(epochs, acc, 'g', label='Training acc')\n",
        "plt.plot(epochs, val_acc, 'b', label='Validation acc')\n",
        "plt.title('Training and Validation Accuracy')\n",
        "plt.legend()\n",
        "plt.figure()\n",
        "\n",
        "plt.plot(epochs, loss, 'g', label='Training Loss')\n",
        "plt.plot(epochs, val_loss, 'b', label='Validation Loss')\n",
        "plt.title('Training and Validation Loss')\n",
        "plt.legend()\n",
        "plt.show()"
      ],
      "execution_count": 42,
      "outputs": [
        {
          "output_type": "display_data",
          "data": {
            "image/png": "[encoded data removed]",
            "text/plain": [
              "<Figure size 432x288 with 1 Axes>"
            ]
          },
          "metadata": {
            "tags": [],
            "needs_background": "light"
          }
        },
        {
          "output_type": "display_data",
          "data": {
            "image/png": "[encoded data removed]",
            "text/plain": [
              "<Figure size 432x288 with 1 Axes>"
            ]
          },
          "metadata": {
            "tags": [],
            "needs_background": "light"
          }
        }
      ]
    },
    {
      "cell_type": "code",
      "metadata": {
        "id": "K2jSdSM_2R4w"
      },
      "source": [
        "test_datagen = ImageDataGenerator(rescale=1./255)"
      ],
      "execution_count": 11,
      "outputs": []
    },
    {
      "cell_type": "code",
      "metadata": {
        "id": "5ldhsCRk2TsM",
        "colab": {
          "base_uri": "https://localhost:8080/"
        },
        "outputId": "b4f3ed52-6ace-4f8e-af3b-db043292a891"
      },
      "source": [
        "#Build test generator\n",
        "test_generator_dense = test_datagen.flow_from_directory(test_dir, \n",
        "                                                              target_size=(224, 224), \n",
        "                                                              batch_size=32, \n",
        "                                                              class_mode='categorical',\n",
        "                                                              shuffle=False)"
      ],
      "execution_count": 12,
      "outputs": [
        {
          "output_type": "stream",
          "text": [
            "Found 3147 images belonging to 7 classes.\n"
          ],
          "name": "stdout"
        }
      ]
    },
    {
      "cell_type": "code",
      "metadata": {
        "id": "jDtoAe9Q2V4H"
      },
      "source": [
        "#Create predictions\n",
        "y_pred = model_dense.predict(test_generator_dense)"
      ],
      "execution_count": 36,
      "outputs": []
    },
    {
      "cell_type": "code",
      "metadata": {
        "id": "aVMrtjtX2YHg"
      },
      "source": [
        "y_pred = np.argmax(y_pred, axis=1)"
      ],
      "execution_count": 37,
      "outputs": []
    },
    {
      "cell_type": "code",
      "metadata": {
        "id": "T5vP0stexXnM"
      },
      "source": [
        "def plot_confusion_mat(cm, classes,\n",
        "                        normalize=False,\n",
        "                        title='Confusion matrix',\n",
        "                        cmap=plt.cm.Blues):\n",
        "    \"\"\"\n",
        "    This function prints and plots the confusion matrix.\n",
        "    Normalization can be applied by setting `normalize=True`.\n",
        "    \"\"\"\n",
        "    plt.imshow(cm, interpolation='nearest', cmap=cmap)\n",
        "    plt.title(title)\n",
        "    plt.colorbar()\n",
        "    tick_marks = np.arange(len(classes))\n",
        "    plt.xticks(tick_marks, classes, rotation=45)\n",
        "    plt.yticks(tick_marks, classes)\n",
        "    \n",
        "    if normalize:\n",
        "      cm = cm.astype('float') / cm.sum(axis=1)[:, np.newaxis]\n",
        "      print(\"Normalized confusion matrix\")\n",
        "    else:\n",
        "      print('Confusion matrix, without normalization')\n",
        "\n",
        "\n",
        "    thresh = cm.max() / 2.\n",
        "    for i, j in itertools.product(range(cm.shape[0]), range(cm.shape[1])):\n",
        "        plt.text(j, i, cm[i, j],\n",
        "            horizontalalignment=\"center\",\n",
        "            color=\"white\" if cm[i, j] > thresh else \"black\")\n",
        "\n",
        "    plt.tight_layout()\n",
        "    plt.ylabel('True label')\n",
        "    plt.xlabel('Predicted label')"
      ],
      "execution_count": 38,
      "outputs": []
    },
    {
      "cell_type": "code",
      "metadata": {
        "id": "pOR-Upa7xpe5"
      },
      "source": [
        "cm = confusion_matrix(test_generator_dense.classes, y_pred)\n",
        "cm_plot_labels = [key for key,value in test_generator_dense.class_indices.items()]"
      ],
      "execution_count": 39,
      "outputs": []
    },
    {
      "cell_type": "code",
      "metadata": {
        "colab": {
          "base_uri": "https://localhost:8080/",
          "height": 328
        },
        "id": "hNbUJN88x2m5",
        "outputId": "905619b2-33a1-4086-d4ed-dcbec4cf9bda"
      },
      "source": [
        "plot_confusion_mat(cm=cm, classes=cm_plot_labels, title='Confusion Matrix')"
      ],
      "execution_count": 40,
      "outputs": [
        {
          "output_type": "stream",
          "text": [
            "Confusion matrix, without normalization\n"
          ],
          "name": "stdout"
        },
        {
          "output_type": "display_data",
          "data": {
            "image/png": "[encoded data removed]",
            "text/plain": [
              "<Figure size 432x288 with 2 Axes>"
            ]
          },
          "metadata": {
            "tags": [],
            "needs_background": "light"
          }
        }
      ]
    },
    {
      "cell_type": "code",
      "metadata": {
        "colab": {
          "base_uri": "https://localhost:8080/"
        },
        "id": "NwVTkq286erF",
        "outputId": "5502d1ea-4ea5-4383-a359-7b18b46be3c4"
      },
      "source": [
        "print(classification_report(test_generator_dense.classes, y_pred, target_names = [key for key,value in test_generator_dense.class_indices.items()]))"
      ],
      "execution_count": 15,
      "outputs": [
        {
          "output_type": "stream",
          "text": [
            "                precision    recall  f1-score   support\n",
            "\n",
            "    earthquake       0.63      0.80      0.70       404\n",
            "          fire       0.72      0.79      0.75       280\n",
            "         flood       0.70      0.84      0.76       599\n",
            "     hurricane       0.56      0.55      0.56       352\n",
            "     landslide       0.68      0.72      0.70       220\n",
            "  not_disaster       0.90      0.76      0.83       990\n",
            "other_disaster       0.52      0.31      0.39       302\n",
            "\n",
            "      accuracy                           0.72      3147\n",
            "     macro avg       0.67      0.68      0.67      3147\n",
            "  weighted avg       0.72      0.72      0.71      3147\n",
            "\n"
          ],
          "name": "stdout"
        }
      ]
    }
  ]
}